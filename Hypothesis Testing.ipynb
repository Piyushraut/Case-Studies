{
 "cells": [
  {
   "cell_type": "markdown",
   "id": "d4a1ee0e",
   "metadata": {},
   "source": [
    "# BUSINESS PROBLEM-1\n",
    "BACKGROUND: The Lending Club is a peer-to-peer lending site where members make loans to\n",
    "each other. The site makes anonymized data on loans and borrowers publicly available."
   ]
  },
  {
   "cell_type": "code",
   "execution_count": 24,
   "id": "bc898f6c",
   "metadata": {},
   "outputs": [],
   "source": [
    "import pandas as pd\n",
    "import numpy as np\n",
    "from scipy.stats import f_oneway, pearsonr, ttest_ind, stats"
   ]
  },
  {
   "cell_type": "code",
   "execution_count": 14,
   "id": "41b30c0c",
   "metadata": {},
   "outputs": [
    {
     "name": "stdout",
     "output_type": "stream",
     "text": [
      "Index(['Amount_Requested', 'Amount_Funded_By_Investors', 'Interest_Rate',\n",
      "       'Loan_Length', 'Loan_Purpose', 'Debt_To_Income_Ratio', 'State',\n",
      "       'Home_Ownership', 'Monthly_Income', 'FICO_Range', 'Open_CREDIT_Lines',\n",
      "       'Revolving_CREDIT_Balance', 'Inquiries_in_the_Last_6_Months',\n",
      "       'Employment_Length'],\n",
      "      dtype='object')\n"
     ]
    }
   ],
   "source": [
    "# Load the data\n",
    "loans_data = pd.read_csv('C:/Users/ADMIN/Documents/hypothesis_data/LoansData.csv')\n",
    "\n",
    "# Replace periods with underscores in column names\n",
    "loans_data.rename(columns=lambda x: x.replace('.', '_'), inplace=True)\n",
    "\n",
    "# Preprocess the data by removing rows with missing or invalid values\n",
    "loans_data = loans_data.dropna(subset=['Loan_Length', 'Interest_Rate','FICO_Range'])\n",
    "\n",
    "# Verify the updated column names\n",
    "print(loans_data.columns)"
   ]
  },
  {
   "cell_type": "code",
   "execution_count": 9,
   "id": "0ba58d43",
   "metadata": {},
   "outputs": [
    {
     "name": "stdout",
     "output_type": "stream",
     "text": [
      "Hypothesis a: Reject the null hypothesis\n"
     ]
    }
   ],
   "source": [
    "# Hypothesis a: Interest rate varied for different loan amounts\n",
    "loan_amounts = loans_data['Amount_Requested']\n",
    "interest_rates = loans_data['Interest_Rate'].str.rstrip('%').astype(float)\n",
    "\n",
    "f_statistic, p_value = f_oneway(*[interest_rates[loan_amounts == amount] for amount in loan_amounts.unique()])\n",
    "if p_value < 0.05:\n",
    "    print(\"Hypothesis a: Reject the null hypothesis\")\n",
    "else:\n",
    "    print(\"Hypothesis a: Fail to reject the null hypothesis\")"
   ]
  },
  {
   "cell_type": "code",
   "execution_count": 11,
   "id": "ee760129",
   "metadata": {},
   "outputs": [
    {
     "name": "stdout",
     "output_type": "stream",
     "text": [
      "Hypothesis b: Reject the null hypothesis\n"
     ]
    }
   ],
   "source": [
    "# Hypothesis b: Loan length directly affecting interest rate\n",
    "# Preprocess the data by removing rows with missing or invalid values\n",
    "\n",
    "\n",
    "loan_lengths = loans_data['Loan_Length'].str.rstrip(' months').astype(float)\n",
    "interest_rates = loans_data['Interest_Rate'].str.rstrip('%').astype(float)\n",
    "\n",
    "correlation_coefficient, p_value = pearsonr(loan_lengths, interest_rates)\n",
    "if p_value < 0.05:\n",
    "    print(\"Hypothesis b: Reject the null hypothesis\")\n",
    "else:\n",
    "    print(\"Hypothesis b: Fail to reject the null hypothesis\")"
   ]
  },
  {
   "cell_type": "code",
   "execution_count": 12,
   "id": "3a3af466",
   "metadata": {},
   "outputs": [
    {
     "name": "stdout",
     "output_type": "stream",
     "text": [
      "Hypothesis c: Reject the null hypothesis\n"
     ]
    }
   ],
   "source": [
    "# Hypothesis c: Interest rate varies for different purposes of loans\n",
    "loan_purposes = loans_data['Loan_Purpose']\n",
    "\n",
    "f_statistic, p_value = f_oneway(*[interest_rates[loan_purposes == purpose] for purpose in loan_purposes.unique()])\n",
    "if p_value < 0.05:\n",
    "    print(\"Hypothesis c: Reject the null hypothesis\")\n",
    "else:\n",
    "    print(\"Hypothesis c: Fail to reject the null hypothesis\")"
   ]
  },
  {
   "cell_type": "code",
   "execution_count": 15,
   "id": "9ee0f9d0",
   "metadata": {},
   "outputs": [
    {
     "name": "stdout",
     "output_type": "stream",
     "text": [
      "Hypothesis d: Fail to reject the null hypothesis\n"
     ]
    }
   ],
   "source": [
    "# Hypothesis d: Relationship between FICO scores and home ownership\n",
    "fico_scores = loans_data['FICO_Range'].str.split('-', expand=True)[0].astype(float)\n",
    "home_ownership = loans_data['Home_Ownership']\n",
    "\n",
    "\n",
    "fico_home_owners = fico_scores[home_ownership == 'OWN']\n",
    "fico_non_home_owners = fico_scores[home_ownership != 'OWN']\n",
    "\n",
    "t_statistic, p_value = ttest_ind(fico_home_owners, fico_non_home_owners)\n",
    "if p_value < 0.05:\n",
    "    print(\"Hypothesis d: Reject the null hypothesis\")\n",
    "else:\n",
    "    print(\"Hypothesis d: Fail to reject the null hypothesis\")"
   ]
  },
  {
   "cell_type": "markdown",
   "id": "5e26adab",
   "metadata": {},
   "source": [
    "# BUSINESS PROBLEM-2"
   ]
  },
  {
   "cell_type": "code",
   "execution_count": 20,
   "id": "cd81130e",
   "metadata": {},
   "outputs": [
    {
     "name": "stdout",
     "output_type": "stream",
     "text": [
      "There is no significant difference in the average price quotes between Mary and Barry.\n"
     ]
    }
   ],
   "source": [
    "# Read the CSV file\n",
    "price_quotes_data = pd.read_csv('C:/Users/ADMIN/Documents/hypothesis_data/Price_Quotes.csv')\n",
    "\n",
    "# Extract the price quotes for Mary and Barry\n",
    "mary_quotes = price_quotes_data['Mary_Price']\n",
    "barry_quotes = price_quotes_data['Barry_Price']\n",
    "\n",
    "# Perform a two-sample t-test\n",
    "t_statistic, p_value = ttest_ind(mary_quotes, barry_quotes)\n",
    "\n",
    "# Interpret the results\n",
    "alpha = 0.05\n",
    "\n",
    "if p_value < alpha:\n",
    "    print(\"There is a significant difference in the average price quotes between Mary and Barry.\")\n",
    "else:\n",
    "    print(\"There is no significant difference in the average price quotes between Mary and Barry.\")\n"
   ]
  },
  {
   "cell_type": "markdown",
   "id": "b46247ec",
   "metadata": {},
   "source": [
    "# BUSINESS PROBLEM-3"
   ]
  },
  {
   "cell_type": "code",
   "execution_count": 22,
   "id": "9d07d1a1",
   "metadata": {},
   "outputs": [
    {
     "name": "stdout",
     "output_type": "stream",
     "text": [
      "There is no significant evidence that the critical incidence rate improved after the reengineering effort.\n",
      "Pre-Reengineering Critical Incidence Rate: 53.887906321846145\n",
      "Post-Reengineering Critical Incidence Rate: 23.34971927988571\n"
     ]
    }
   ],
   "source": [
    "# Load the data\n",
    "Treatment_facility_data = pd.read_csv('C:/Users/ADMIN/Documents/hypothesis_data/Treatment_Facility.csv')\n",
    "Treatment_facility_data = Treatment_facility_data.rename(columns={'VAR4': 'TRFF(%)', 'VAR5': 'CI(%)'})\n",
    "\n",
    "# Separate the data for pre- and post-reengineering periods\n",
    "pre_reengineering_data = Treatment_facility_data[Treatment_facility_data['Reengineer'] == 'Prior']\n",
    "post_reengineering_data = Treatment_facility_data[Treatment_facility_data['Reengineer'] == 'Post']\n",
    "\n",
    "# Calculate the critical incidence rate for pre-reengineering period\n",
    "pre_critical_incidence_rate = (pre_reengineering_data['CI(%)'].mean())\n",
    "\n",
    "# Calculate the critical incidence rate for post-reengineering period\n",
    "post_critical_incidence_rate = (post_reengineering_data['CI(%)'].mean())\n",
    "\n",
    "# Perform a two-sample t-test\n",
    "t_statistic, p_value = ttest_ind(pre_reengineering_data['CI(%)'], post_reengineering_data['CI(%)'])\n",
    "\n",
    "# Interpret the results\n",
    "alpha = 0.05\n",
    "\n",
    "if p_value < alpha:\n",
    "    print(\"There is evidence that the critical incidence rate improved after the reengineering effort.\")\n",
    "else:\n",
    "    print(\"There is no significant evidence that the critical incidence rate improved after the reengineering effort.\")\n",
    "\n",
    "# Print the critical incidence rates for pre- and post-reengineering periods\n",
    "print(\"Pre-Reengineering Critical Incidence Rate:\", pre_critical_incidence_rate)\n",
    "print(\"Post-Reengineering Critical Incidence Rate:\", post_critical_incidence_rate)\n"
   ]
  },
  {
   "cell_type": "markdown",
   "id": "f15f71a0",
   "metadata": {},
   "source": [
    "# BUSINESS PROBLEM-4"
   ]
  },
  {
   "cell_type": "code",
   "execution_count": 25,
   "id": "3e758a72",
   "metadata": {},
   "outputs": [
    {
     "name": "stdout",
     "output_type": "stream",
     "text": [
      "There is no significant difference in average completion time between different priority levels.\n",
      "Average Completion Time by Priority:\n",
      "Priority\n",
      "High      3.023620\n",
      "Low       4.228358\n",
      "Medium    2.500000\n",
      "Name: Days, dtype: float64\n"
     ]
    },
    {
     "name": "stderr",
     "output_type": "stream",
     "text": [
      "C:\\Users\\ADMIN\\AppData\\Local\\Temp\\ipykernel_9984\\3509826677.py:8: DeprecationWarning: Please use `f_oneway` from the `scipy.stats` namespace, the `scipy.stats.stats` namespace is deprecated.\n",
      "  result = stats.f_oneway(Priority_data[Priority_data['Priority'] == 'High']['Days'],\n"
     ]
    }
   ],
   "source": [
    "# Load the data\n",
    "Priority_data = pd.read_csv('C:/Users/ADMIN/Documents/hypothesis_data/Priority_Assessment.csv')\n",
    "\n",
    "# Calculate the average completion time for each priority level\n",
    "avg_completion_time = Priority_data.groupby('Priority')['Days'].mean()\n",
    "\n",
    "# Perform one-way ANOVA test\n",
    "result = stats.f_oneway(Priority_data[Priority_data['Priority'] == 'High']['Days'],\n",
    "                        Priority_data[Priority_data['Priority'] == 'Medium']['Days'])\n",
    "\n",
    "# Interpret the results\n",
    "alpha = 0.05\n",
    "\n",
    "if result.pvalue < alpha:\n",
    "    print(\"There is a significant difference in average completion time between different priority levels.\")\n",
    "else:\n",
    "    print(\"There is no significant difference in average completion time between different priority levels.\")\n",
    "\n",
    "# Print the average completion time for each priority level\n",
    "print(\"Average Completion Time by Priority:\")\n",
    "print(avg_completion_time)"
   ]
  },
  {
   "cell_type": "markdown",
   "id": "f7b4e2a6",
   "metadata": {},
   "source": [
    "# BUSINESS PROBLEM-5"
   ]
  },
  {
   "cell_type": "code",
   "execution_count": 27,
   "id": "a4beded7",
   "metadata": {},
   "outputs": [
    {
     "name": "stdout",
     "output_type": "stream",
     "text": [
      "Overall Customer Satisfaction: 1.6189024390243902\n",
      "Factors Linked to Satisfaction:\n",
      "                                    Sinage   Parking     Clean   Overall\n",
      "Gender Marital_Status Age Income                                        \n",
      "1      1              2.0 1.0     1.750000  1.750000  1.250000  1.750000\n",
      "                          2.0     2.500000  2.000000  1.500000  1.000000\n",
      "                          3.0     1.666667  2.000000  1.666667  1.666667\n",
      "                      3.0 1.0     1.000000  2.000000  2.000000  1.000000\n",
      "                          2.0     1.833333  2.000000  1.833333  1.500000\n",
      "                          3.0     1.714286  1.642857  1.571429  1.571429\n",
      "                      4.0 3.0     2.000000  1.000000  1.000000  1.000000\n",
      "       2              1.0 1.0     2.333333  2.666667  2.333333  2.000000\n",
      "                          3.0     1.000000  1.000000  1.000000  1.000000\n",
      "                      2.0 1.0     2.344828  1.931034  1.862069  1.655172\n",
      "                          2.0     2.153846  1.769231  1.769231  1.615385\n",
      "                          3.0     2.400000  1.800000  2.000000  1.800000\n",
      "                      3.0 1.0     1.500000  1.500000  1.750000  1.500000\n",
      "                          2.0     2.142857  1.714286  1.571429  1.571429\n",
      "                          3.0     1.000000  1.500000  1.500000  1.500000\n",
      "2      1              1.0 2.0     1.000000  1.000000  2.000000  1.000000\n",
      "                      2.0 1.0     2.000000  2.666667  1.666667  2.333333\n",
      "                          2.0     2.000000  1.500000  1.500000  2.000000\n",
      "                          3.0     1.000000  2.000000  2.000000  1.000000\n",
      "                      3.0 1.0     1.000000  1.000000  2.000000  1.000000\n",
      "                          2.0     2.000000  2.000000  1.611111  1.611111\n",
      "                          3.0     1.818182  1.772727  1.818182  1.590909\n",
      "                      4.0 2.0     2.000000  2.000000  2.000000  2.000000\n",
      "                          3.0     1.000000  1.000000  1.000000  2.000000\n",
      "       2              1.0 1.0     1.250000  1.750000  1.500000  2.500000\n",
      "                          2.0     2.666667  1.333333  1.333333  1.000000\n",
      "                          3.0     1.333333  1.444444  1.333333  1.333333\n",
      "                      2.0 1.0     1.915254  1.793103  1.661017  1.576271\n",
      "                          2.0     1.941176  1.588235  1.588235  1.588235\n",
      "                          3.0     2.312500  1.875000  1.937500  1.812500\n",
      "                      3.0 1.0     1.733333  1.250000  1.375000  1.625000\n",
      "                          2.0     2.000000  2.000000  1.666667  1.666667\n",
      "                          3.0     1.000000  1.500000  2.000000  1.500000\n",
      "                      4.0 1.0     3.000000  1.000000       NaN  2.000000\n",
      "Female Married        3.0 1.0     2.000000  2.000000  2.000000  2.000000\n",
      "                          2.0     2.000000  3.000000  3.000000  2.000000\n",
      "                          3.0     1.000000  1.000000  1.000000  1.000000\n",
      "                      4.0 1.0     1.000000  3.000000  2.000000  2.000000\n",
      "       Single         1.0 3.0     3.000000  2.000000  3.000000  1.000000\n",
      "                      2.0 1.0     1.000000  1.000000  1.000000  1.000000\n",
      "                          3.0     2.000000  2.000000  2.000000  2.000000\n",
      "                      3.0 1.0     1.333333  1.666667  1.333333  1.333333\n",
      "                      4.0 1.0     1.000000  1.000000  1.000000  1.000000\n",
      "       Slngle         2.0 2.0     1.000000  2.000000  1.000000  1.000000\n",
      "                          3.0     1.000000  2.000000  1.000000  2.000000\n",
      "Male   Married        3.0 2.0     1.000000  2.000000  2.000000  1.000000\n",
      "                          3.0     1.666667  2.000000  1.666667  1.666667\n",
      "                      4.0 1.0     2.000000  3.000000  2.500000  2.000000\n",
      "       Single         2.0 1.0     1.500000  1.500000  1.500000  1.500000\n",
      "                          2.0     3.000000  4.000000  2.000000  5.000000\n",
      "                          3.0     2.000000  1.750000  1.750000  2.250000\n",
      "Demographic Profile:\n",
      "Gender  Marital_Status  Age  Income\n",
      "2       2               2.0  1.0       0.190323\n",
      "1       2               2.0  1.0       0.096774\n",
      "2       1               3.0  3.0       0.070968\n",
      "                             2.0       0.058065\n",
      "        2               2.0  2.0       0.054839\n",
      "                        3.0  1.0       0.051613\n",
      "                        2.0  3.0       0.051613\n",
      "1       1               3.0  3.0       0.045161\n",
      "        2               2.0  2.0       0.041935\n",
      "2       2               1.0  3.0       0.029032\n",
      "1       2               3.0  2.0       0.022581\n",
      "2       2               3.0  2.0       0.019355\n",
      "1       1               3.0  2.0       0.019355\n",
      "        2               2.0  3.0       0.016129\n",
      "        1               2.0  1.0       0.012903\n",
      "2       2               1.0  1.0       0.012903\n",
      "Male    Single          2.0  3.0       0.012903\n",
      "1       2               3.0  1.0       0.012903\n",
      "2       2               1.0  2.0       0.009677\n",
      "1       1               2.0  3.0       0.009677\n",
      "2       1               3.0  1.0       0.009677\n",
      "                        2.0  1.0       0.009677\n",
      "Male    Married         3.0  3.0       0.009677\n",
      "Female  Single          3.0  1.0       0.009677\n",
      "                        2.0  1.0       0.009677\n",
      "1       2               1.0  1.0       0.009677\n",
      "Male    Single          2.0  1.0       0.006452\n",
      "        Married         4.0  1.0       0.006452\n",
      "Female  Married         3.0  3.0       0.006452\n",
      "2       2               3.0  3.0       0.006452\n",
      "        1               2.0  2.0       0.006452\n",
      "1       2               3.0  3.0       0.006452\n",
      "        1               2.0  2.0       0.006452\n",
      "Female  Single          4.0  1.0       0.003226\n",
      "Male    Single          2.0  2.0       0.003226\n",
      "2       1               1.0  2.0       0.003226\n",
      "                        4.0  2.0       0.003226\n",
      "                             3.0       0.003226\n",
      "Male    Married         3.0  2.0       0.003226\n",
      "Female  Slngle          2.0  3.0       0.003226\n",
      "                             2.0       0.003226\n",
      "1       1               3.0  1.0       0.003226\n",
      "                        4.0  3.0       0.003226\n",
      "Female  Single          2.0  3.0       0.003226\n",
      "                        1.0  3.0       0.003226\n",
      "        Married         4.0  1.0       0.003226\n",
      "1       2               1.0  3.0       0.003226\n",
      "Female  Married         3.0  2.0       0.003226\n",
      "2       1               2.0  3.0       0.003226\n",
      "        2               4.0  1.0       0.003226\n",
      "Female  Married         3.0  1.0       0.003226\n",
      "dtype: float64\n",
      "Media Outlets:\n",
      "5      0.699690\n",
      "4      0.126935\n",
      "1      0.068111\n",
      "3      0.043344\n",
      "2      0.037152\n",
      "2,5    0.006192\n",
      "3,4    0.006192\n",
      "4,5    0.003096\n",
      "1,5    0.003096\n",
      "5,4    0.003096\n",
      "3,5    0.003096\n",
      "Name: Hear_About, dtype: float64\n"
     ]
    }
   ],
   "source": [
    "# Load the data\n",
    "Films_data = pd.read_csv('C:/Users/ADMIN/Documents/hypothesis_data/Films.csv')\n",
    "\n",
    "# Customer Satisfaction Analysis\n",
    "satisfaction_cols = ['Sinage', 'Parking', 'Clean', 'Overall']\n",
    "satisfaction_scores = Films_data[satisfaction_cols].mean()\n",
    "\n",
    "overall_satisfaction = satisfaction_scores['Overall']\n",
    "\n",
    "print(\"Overall Customer Satisfaction:\", overall_satisfaction)\n",
    "\n",
    "# Factors Linked to Satisfaction\n",
    "factors_cols = ['Gender', 'Marital_Status', 'Age', 'Income']\n",
    "factors_satisfaction = Films_data.groupby(factors_cols)[satisfaction_cols].mean()\n",
    "\n",
    "print(\"Factors Linked to Satisfaction:\")\n",
    "print(factors_satisfaction)\n",
    "\n",
    "# Demographic Profile Analysis\n",
    "demographic_cols = ['Gender', 'Marital_Status', 'Age', 'Income']\n",
    "demographic_profile = Films_data[demographic_cols].value_counts(normalize=True)\n",
    "\n",
    "print(\"Demographic Profile:\")\n",
    "print(demographic_profile)\n",
    "\n",
    "# Effective Media Outlet Analysis\n",
    "media_outlet_counts = Films_data['Hear_About'].value_counts(normalize=True)\n",
    "\n",
    "print(\"Media Outlets:\")\n",
    "print(media_outlet_counts)"
   ]
  }
 ],
 "metadata": {
  "kernelspec": {
   "display_name": "Python 3 (ipykernel)",
   "language": "python",
   "name": "python3"
  },
  "language_info": {
   "codemirror_mode": {
    "name": "ipython",
    "version": 3
   },
   "file_extension": ".py",
   "mimetype": "text/x-python",
   "name": "python",
   "nbconvert_exporter": "python",
   "pygments_lexer": "ipython3",
   "version": "3.9.13"
  }
 },
 "nbformat": 4,
 "nbformat_minor": 5
}
